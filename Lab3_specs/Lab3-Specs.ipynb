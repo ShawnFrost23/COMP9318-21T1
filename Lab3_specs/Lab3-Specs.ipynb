{
 "cells": [
  {
   "cell_type": "markdown",
   "metadata": {},
   "source": [
    "# COMP9318 Lab3"
   ]
  },
  {
   "cell_type": "markdown",
   "metadata": {},
   "source": [
    "## Instructions\n",
    "1. This note book contains instructions for **COMP9318-Lab3**.\n",
    "\n",
    "* You are required to complete your implementation in a file `submission.py` provided along with this notebook.\n",
    "\n",
    "* You are not allowed to print out unnecessary stuff. We will not consider any output printed out on the screen. All results should be returned in appropriate data structures via corresponding functions.\n",
    "\n",
    "* You can submit your implementation for **Lab3** via following link: https://kg.cse.unsw.edu.au/submit/ .\n",
    "\n",
    "* For each question, we have provided you with detailed instructions along with question headings. In case of any problem, you can post your query @ Ed.\n",
    "\n",
    "* You are allowed to add other functions and/or import modules (you may have to in this lab), but you are not allowed to define global variables. **Only functions are allowed** in `submission.py`. \n",
    "\n",
    "* You should not import unnecessary modules/libraries, failing to import such modules at test time will lead to errors.\n",
    "\n",
    "* We will provide immediate feedback on your submission. You can access your scores using the online submission portal on the same day. \n",
    "\n",
    "* For **Final Evaluation** we will be using a different dataset, so your final scores may vary.  \n",
    "\n",
    "* You are allowed to submit as many times as you want before the deadline, but **ONLY the latest version will be kept and marked**.\n",
    "\n",
    "* Submission deadline for this assignment is **20:59:59 on 2nd April, 2021 (SYDNEY TIME)**. We will **not** accept any late submissions."
   ]
  },
  {
   "cell_type": "markdown",
   "metadata": {},
   "source": [
    "# Question-1: Text Classification using Multinomial Naive Bayes\n",
    "\n",
    "You are required to implement a multinomial naive bayes classifier to predict spam SMS.\n",
    "\n",
    "The training data is a set of SMS categoried into `spam` and `ham`."
   ]
  },
  {
   "cell_type": "code",
   "execution_count": 17,
   "metadata": {
    "scrolled": true
   },
   "outputs": [
    {
     "name": "stdout",
     "output_type": "stream",
     "text": [
      "  category                                               text\n",
      "0      ham  Go until jurong point, crazy.. Available only ...\n",
      "1      ham                      Ok lar... Joking wif u oni...\n",
      "2     spam  Free entry in 2 a wkly comp to win FA Cup fina...\n",
      "3      ham  U dun say so early hor... U c already then say...\n",
      "4      ham  Nah I don't think he goes to usf, he lives aro...\n",
      "5     spam  FreeMsg Hey there darling it's been 3 week's n...\n"
     ]
    }
   ],
   "source": [
    "import pandas as pd\n",
    "\n",
    "raw_data = pd.read_csv('./asset/data.txt', sep='\\t')\n",
    "raw_data.head()\n",
    "print(raw_data)"
   ]
  },
  {
   "cell_type": "markdown",
   "metadata": {},
   "source": [
    "In order to implement a unigram model, first we tokenize the text. We use the count corresponding to each token (word) in the SMS as its feature (i.e., bag of words). We store the features and catrgorical information for each SMS in a `dictionary`."
   ]
  },
  {
   "cell_type": "code",
   "execution_count": 2,
   "metadata": {},
   "outputs": [],
   "source": [
    "def tokenize(sms):\n",
    "    return sms.split(' ')\n",
    "\n",
    "def get_freq_of_tokens(sms):\n",
    "    tokens = {}\n",
    "    for token in tokenize(sms):\n",
    "        if token not in tokens:\n",
    "            tokens[token] = 1\n",
    "        else:\n",
    "            tokens[token] += 1\n",
    "    return tokens\n",
    "\n",
    "training_data = []\n",
    "for index in range(len(raw_data)):\n",
    "    training_data.append((get_freq_of_tokens(raw_data.iloc[index].text), raw_data.iloc[index].category))"
   ]
  },
  {
   "cell_type": "code",
   "execution_count": 21,
   "metadata": {},
   "outputs": [],
   "source": [
    "################# Question 1 #################\n",
    "## import modules here \n",
    "import math\n",
    "\n",
    "def processTrainData(training_data):\n",
    "\n",
    "    vocabulary = set([])\n",
    "\n",
    "    spamDictionary = {}\n",
    "    lengthSpamDict = 0\n",
    "    totalSpamMessages = 0\n",
    "\n",
    "    hamDictionary = {}\n",
    "    lengthHamDict = 0\n",
    "    totalHamMessages = 0\n",
    "\n",
    "    for (dict, category) in training_data:\n",
    "\n",
    "        for key in dict:\n",
    "            vocabulary.add(key)\n",
    "\n",
    "        if category == 'spam':\n",
    "            totalSpamMessages += 1\n",
    "\n",
    "            for key, value in dict.items():\n",
    "                \n",
    "                lengthSpamDict += value\n",
    "                \n",
    "                if key not in spamDictionary:\n",
    "                    spamDictionary[key] = value\n",
    "                else:\n",
    "                    spamDictionary[key] += value\n",
    "\n",
    "\n",
    "        elif category == 'ham':\n",
    "            totalHamMessages += 1\n",
    "\n",
    "            for key, value in dict.items():\n",
    "\n",
    "                lengthHamDict += value\n",
    "\n",
    "                if key not in hamDictionary:\n",
    "                    hamDictionary[key] = value\n",
    "                else:\n",
    "                    hamDictionary[key] += value\n",
    "\n",
    "    return spamDictionary, lengthSpamDict, totalSpamMessages, hamDictionary, lengthHamDict, totalHamMessages, vocabulary, len(vocabulary)\n",
    "\n",
    "\n",
    "\n",
    "def multinomial_nb(training_data, sms):# do not change the heading of the function\n",
    "\n",
    "\n",
    "    spamDictionary, lengthSpamDict, totalSpamMessages, hamDictionary, lengthHamDict, totalHamMessages, vocabulary, lengthVocabulary = processTrainData(training_data)\n",
    "\n",
    "    p_spam = math.log(totalSpamMessages);\n",
    "    p_ham = math.log(totalHamMessages);\n",
    "\n",
    "    divider_spam = lengthSpamDict + lengthVocabulary;\n",
    "    divider_ham = lengthHamDict + lengthVocabulary;\n",
    "\n",
    "    for word in sms:\n",
    "\n",
    "        if word not in vocabulary:\n",
    "            p_spam += 0\n",
    "        elif word not in spamDictionary:\n",
    "            p_spam += math.log(1 / divider_spam)\n",
    "        else:\n",
    "            p_spam += math.log((spamDictionary[word] + 1) / divider_spam)\n",
    "\n",
    "        if word not in vocabulary:\n",
    "            p_ham += 0\n",
    "        elif word not in hamDictionary:\n",
    "            p_ham += math.log(1 / divider_ham)\n",
    "        else:\n",
    "            p_ham += math.log((hamDictionary[word] + 1) / divider_ham)\n",
    "\n",
    "    return math.exp(p_spam) / math.exp(p_ham)\n",
    "\n"
   ]
  },
  {
   "cell_type": "markdown",
   "metadata": {},
   "source": [
    "For this lab, you need to **implement** a multinomial naive bayes classifier (i.e., `multinomial_nb()` in the file: `submission.py`) with add-1 smoothing. The input arguments of `multinomial_nb()` are:\n",
    "* `training_data`: pre-processed data stored as a `dictionary`\n",
    "* `sms`: test-sms (i.e., a list of tokens) that you need to categorize as `spam` and/or `ham`\n",
    "\n",
    "The return value of `multinomial_nb()` should be the **ratio** of the probability of sms is spam and the probability of sms is ham. A return value larger than 1 implies the `sms` is spam and vice versa.\n",
    "\n",
    "For example, a sample output is shown in the cell given below:"
   ]
  },
  {
   "cell_type": "code",
   "execution_count": 24,
   "metadata": {
    "scrolled": true
   },
   "outputs": [
    {
     "name": "stdout",
     "output_type": "stream",
     "text": [
      "({'Go': 1, 'until': 1, 'jurong': 1, 'point,': 1, 'crazy..': 1, 'Available': 1, 'only': 1, 'in': 1, 'bugis': 1, 'n': 1, 'great': 1, 'world': 1, 'la': 1, 'e': 1, 'buffet...': 1, 'Cine': 1, 'there': 1, 'got': 1, 'amore': 1, 'wat...': 1}, 'ham')\n",
      "0.23427672955974838\n"
     ]
    }
   ],
   "source": [
    "## How we test your implementation...\n",
    "#import submission_ans as submission\n",
    "print(training_data[0])\n",
    "sms = 'I am not spam'\n",
    "print(multinomial_nb(training_data, tokenize(sms)))"
   ]
  },
  {
   "cell_type": "markdown",
   "metadata": {},
   "source": [
    "\n",
    "\n",
    "# Test Environment\n",
    "\n",
    "For testing, we have pre-installed the requisite modules and/or libraries in the testing environment. You are only allowed to use following libraries:\n",
    "* python: 3.6.5\n",
    "* pandas: 0.19.2\n",
    "\n",
    "NOTE: You are required to implement the classifier by yourself. You are not allowed to import **sklearn** and/or any other library in Lab3."
   ]
  },
  {
   "cell_type": "code",
   "execution_count": null,
   "metadata": {},
   "outputs": [],
   "source": []
  },
  {
   "cell_type": "code",
   "execution_count": null,
   "metadata": {},
   "outputs": [],
   "source": []
  }
 ],
 "metadata": {
  "kernelspec": {
   "display_name": "Python 3",
   "language": "python",
   "name": "python3"
  },
  "language_info": {
   "codemirror_mode": {
    "name": "ipython",
    "version": 3
   },
   "file_extension": ".py",
   "mimetype": "text/x-python",
   "name": "python",
   "nbconvert_exporter": "python",
   "pygments_lexer": "ipython3",
   "version": "3.8.5"
  }
 },
 "nbformat": 4,
 "nbformat_minor": 4
}
